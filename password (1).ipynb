{
 "cells": [
  {
   "cell_type": "code",
   "execution_count": 36,
   "metadata": {
    "scrolled": true
   },
   "outputs": [
    {
     "name": "stdout",
     "output_type": "stream",
     "text": [
      "Requirement already satisfied: pyperclip in c:\\users\\tanya kapoor\\anaconda3\\lib\\site-packages (1.8.2)\n",
      "Requirement already satisfied: tk in c:\\users\\tanya kapoor\\anaconda3\\lib\\site-packages (0.1.0)\n"
     ]
    }
   ],
   "source": [
    "!pip install pyperclip\n",
    "!pip install tk\n"
   ]
  },
  {
   "cell_type": "code",
   "execution_count": 52,
   "metadata": {},
   "outputs": [],
   "source": [
    "from tkinter import *\n",
    "import random, string\n",
    "import pyperclip\n",
    "import string\n"
   ]
  },
  {
   "cell_type": "code",
   "execution_count": 53,
   "metadata": {},
   "outputs": [],
   "source": [
    "win = Tk()\n",
    "win.geometry(\"500x500\")\n",
    "win.title(\"KeyPass\")\n",
    "win.configure(bg=\"#ffc252\")"
   ]
  },
  {
   "cell_type": "code",
   "execution_count": 54,
   "metadata": {},
   "outputs": [],
   "source": [
    "Label(win, text = 'KeyPass' , font ='slant 20 ',bg=\"#ffc252\").pack()"
   ]
  },
  {
   "cell_type": "code",
   "execution_count": 55,
   "metadata": {},
   "outputs": [],
   "source": [
    "pass_label = Label(win, text = 'PASSWORD LENGTH', font = 'ariel 10 bold',bg=\"#ffc252\").pack(pady=10) \n",
    "pass_len = IntVar() \n",
    "length = Spinbox(win, from_= 8, to_ = 32 , textvariable = pass_len , width = 15).pack()"
   ]
  },
  {
   "cell_type": "code",
   "execution_count": null,
   "metadata": {},
   "outputs": [],
   "source": []
  },
  {
   "cell_type": "code",
   "execution_count": 56,
   "metadata": {},
   "outputs": [],
   "source": [
    "pass_str = StringVar()\n",
    "def Generator():\n",
    "    password = '' \n",
    "    for x in range (0,4):\n",
    "        password = random.choice(string.ascii_uppercase) + random.choice(string.ascii_lowercase) + random.choice(string.digits) + random.choice(string.punctuation)\n",
    "    for y in range(pass_len.get()- 4):\n",
    "        password = password + random.choice(string.ascii_uppercase + string.ascii_lowercase + string.digits + string.punctuation)\n",
    "    pass_str.set(password)"
   ]
  },
  {
   "cell_type": "code",
   "execution_count": 57,
   "metadata": {},
   "outputs": [],
   "source": [
    "Generate=Button(win, text = \"GENERATE PASSWORD\" , command = Generator,padx=5,pady=5 )\n",
    "Generate.configure(background=\"blue\", foreground='white',font=('ariel',10,'bold'))\n",
    "Generate.pack(side=TOP,pady=20)\n",
    "Entry(win , textvariable = pass_str).pack()"
   ]
  },
  {
   "cell_type": "code",
   "execution_count": 58,
   "metadata": {},
   "outputs": [],
   "source": [
    "def Copy_password():\n",
    "    pyperclip.copy(pass_str.get())\n",
    "copy=Button(win, text = 'COPY TO CLIPBOARD', command = Copy_password)\n",
    "copy.configure(background=\"blue\", foreground='white',font=('ariel',10,'bold'))\n",
    "copy.pack(side=TOP,pady=20)"
   ]
  },
  {
   "cell_type": "code",
   "execution_count": 60,
   "metadata": {},
   "outputs": [],
   "source": [
    "win.mainloop()"
   ]
  },
  {
   "cell_type": "code",
   "execution_count": null,
   "metadata": {},
   "outputs": [],
   "source": []
  },
  {
   "cell_type": "code",
   "execution_count": null,
   "metadata": {},
   "outputs": [],
   "source": []
  },
  {
   "cell_type": "code",
   "execution_count": null,
   "metadata": {},
   "outputs": [],
   "source": []
  },
  {
   "cell_type": "code",
   "execution_count": null,
   "metadata": {},
   "outputs": [],
   "source": []
  },
  {
   "cell_type": "code",
   "execution_count": null,
   "metadata": {},
   "outputs": [],
   "source": []
  },
  {
   "cell_type": "code",
   "execution_count": null,
   "metadata": {},
   "outputs": [],
   "source": []
  }
 ],
 "metadata": {
  "kernelspec": {
   "display_name": "Python 3",
   "language": "python",
   "name": "python3"
  },
  "language_info": {
   "codemirror_mode": {
    "name": "ipython",
    "version": 3
   },
   "file_extension": ".py",
   "mimetype": "text/x-python",
   "name": "python",
   "nbconvert_exporter": "python",
   "pygments_lexer": "ipython3",
   "version": "3.8.3"
  }
 },
 "nbformat": 4,
 "nbformat_minor": 4
}
